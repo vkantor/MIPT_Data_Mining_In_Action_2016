{
 "cells": [
  {
   "cell_type": "markdown",
   "metadata": {},
   "source": [
    "# Theano, Lasagne\n",
    "и с чем их едят"
   ]
  },
  {
   "cell_type": "markdown",
   "metadata": {},
   "source": [
    "# разминка\n",
    "* напиши на numpy функцию, которая считает сумму квадратов чисел от 0 до N, где N - аргумент\n",
    "* массив чисел от 0 до N - numpy.arange(N)"
   ]
  },
  {
   "cell_type": "code",
   "execution_count": null,
   "metadata": {
    "collapsed": true
   },
   "outputs": [],
   "source": [
    "!pip install Theano\n",
    "!pip install lasagne"
   ]
  },
  {
   "cell_type": "code",
   "execution_count": 14,
   "metadata": {
    "collapsed": false
   },
   "outputs": [],
   "source": [
    "import numpy as np\n",
    "def sum_squares(N):\n",
    "    return reduce(lambda a, x: a + x*x, np.arange(N))"
   ]
  },
  {
   "cell_type": "code",
   "execution_count": 15,
   "metadata": {
    "collapsed": false
   },
   "outputs": [
    {
     "name": "stdout",
     "output_type": "stream",
     "text": [
      "CPU times: user 21.4 s, sys: 192 ms, total: 21.6 s\n",
      "Wall time: 21.4 s\n"
     ]
    },
    {
     "data": {
      "text/plain": [
       "662921401752298880"
      ]
     },
     "execution_count": 15,
     "metadata": {},
     "output_type": "execute_result"
    }
   ],
   "source": [
    "%%time\n",
    "sum_squares(10**8)"
   ]
  },
  {
   "cell_type": "markdown",
   "metadata": {},
   "source": [
    "# theano teaser\n",
    "\n",
    "Как сделать то же самое"
   ]
  },
  {
   "cell_type": "code",
   "execution_count": 16,
   "metadata": {
    "collapsed": true
   },
   "outputs": [],
   "source": [
    "import theano\n",
    "import theano.tensor as T"
   ]
  },
  {
   "cell_type": "code",
   "execution_count": 17,
   "metadata": {
    "collapsed": false
   },
   "outputs": [],
   "source": [
    "\n",
    "\n",
    "#будущий параметр функции\n",
    "N = T.scalar(\"a dimension\",dtype='int32')\n",
    "\n",
    "\n",
    "#рецепт получения суммы квадратов\n",
    "result = (T.arange(N)**2).sum()\n",
    "\n",
    "#компиляция функции \"сумма квадратов\" чисел от 0 до N\n",
    "sum_function = theano.function(inputs = [N],outputs=result)"
   ]
  },
  {
   "cell_type": "code",
   "execution_count": 18,
   "metadata": {
    "collapsed": false
   },
   "outputs": [
    {
     "name": "stdout",
     "output_type": "stream",
     "text": [
      "CPU times: user 252 ms, sys: 72 ms, total: 324 ms\n",
      "Wall time: 329 ms\n"
     ]
    },
    {
     "data": {
      "text/plain": [
       "array(662921401752298880)"
      ]
     },
     "execution_count": 18,
     "metadata": {},
     "output_type": "execute_result"
    }
   ],
   "source": [
    "%%time\n",
    "sum_function(10**8)"
   ]
  },
  {
   "cell_type": "markdown",
   "metadata": {},
   "source": [
    "# Как оно работает?\n",
    "* Нужно написать \"рецепт\" получения выходов по входам\n",
    "* То же самое на заумном: нужно описать символический граф вычислений\n",
    "\n",
    "\n",
    "* 2 вида зверей - \"входы\" и \"преобразования\"\n",
    "* Оба могут быть числами, массивами, матрицами, тензорами и т.п.\n",
    "\n",
    "\n",
    "* Вход - это то аргумент функции. То место, на которое подставится аргумент вызове.\n",
    " * N - вход в примере выше\n",
    "\n",
    "\n",
    "* Преобразования - рецепты вычисления чего-то на основе входов и констант\n",
    " * (T.arange(N)^2).sum() - 3 последовательных преобразования N\n",
    " * Работают почти 1 в 1 как векторные операции в numpy\n",
    " * почти всё, что есть в numpy есть в theano tensor и называется так же\n",
    "   * np.mean -> T.mean\n",
    "   * np.arange -> T.arange\n",
    "   * np.cumsum -> T.cumsum\n",
    "   * и так далее...\n",
    "   * Совсем редко - бывает, что меняется название или синтаксис - нужно спросить у семинаристов или гугла\n",
    " \n",
    " \n",
    "Ничего не понятно? Сейчас исправим."
   ]
  },
  {
   "cell_type": "code",
   "execution_count": 22,
   "metadata": {
    "collapsed": false
   },
   "outputs": [],
   "source": [
    "#входы\n",
    "example_input_integer = T.scalar(\"вход - одно число(пример)\",dtype='float32')\n",
    "\n",
    "example_input_tensor = T.tensor4(\"вход - четырёхмерный тензор(пример)\", dtype = 'float32')\n",
    "#не бойся, тензор нам не пригодится\n",
    "\n",
    "\n",
    "\n",
    "input_vector = T.vector(\"вход - вектор целых чисел\", dtype='int32')\n"
   ]
  },
  {
   "cell_type": "code",
   "execution_count": 23,
   "metadata": {
    "collapsed": false
   },
   "outputs": [],
   "source": [
    "#преобразования\n",
    "\n",
    "#поэлементное умножение\n",
    "double_the_vector = input_vector*2\n",
    "\n",
    "#поэлементный косинус\n",
    "elementwise_cosine = T.cos(input_vector)\n",
    "\n",
    "#разность квадрата каждого элемента и самого элемента\n",
    "vector_squares = input_vector**2 - input_vector\n"
   ]
  },
  {
   "cell_type": "code",
   "execution_count": 24,
   "metadata": {
    "collapsed": false
   },
   "outputs": [
    {
     "data": {
      "text/plain": [
       "Elemwise{mul,no_inplace}.0"
      ]
     },
     "execution_count": 24,
     "metadata": {},
     "output_type": "execute_result"
    }
   ],
   "source": [
    "double_the_vector"
   ]
  },
  {
   "cell_type": "code",
   "execution_count": 29,
   "metadata": {
    "collapsed": false
   },
   "outputs": [],
   "source": [
    "#теперь сам:\n",
    "#создай 2 вектора из чисел float32\n",
    "my_vector = T.vector('myvector', dtype = 'float32')\n",
    "my_vector2 = T.vector('myvector2', dtype = 'float32')"
   ]
  },
  {
   "cell_type": "code",
   "execution_count": 32,
   "metadata": {
    "collapsed": false
   },
   "outputs": [],
   "source": [
    "#напиши преобразование, которое считает\n",
    "#(вектор 1)*(вектор 2) / (sin(вектор 1) +1)\n",
    "my_transformation = (my_vector * my_vector2)/(T.sin(my_vector)+1)"
   ]
  },
  {
   "cell_type": "code",
   "execution_count": 33,
   "metadata": {
    "collapsed": false
   },
   "outputs": [
    {
     "name": "stdout",
     "output_type": "stream",
     "text": [
      "Elemwise{true_div,no_inplace}.0\n"
     ]
    }
   ],
   "source": [
    "print my_transformation\n",
    "#то, что получилась не чиселка - это нормально"
   ]
  },
  {
   "cell_type": "markdown",
   "metadata": {},
   "source": [
    "# Компиляция\n",
    "* До этого момента, мы использовали \"символические\" переменные\n",
    " * писали рецепт вычислений, но ничего не вычисляли\n",
    "* чтобы рецепт можно было использовать, его нужно скомпилировать"
   ]
  },
  {
   "cell_type": "code",
   "execution_count": 34,
   "metadata": {
    "collapsed": false
   },
   "outputs": [
    {
     "ename": "SyntaxError",
     "evalue": "invalid syntax (<ipython-input-34-124f5deabb36>, line 1)",
     "output_type": "error",
     "traceback": [
      "\u001b[0;36m  File \u001b[0;32m\"<ipython-input-34-124f5deabb36>\"\u001b[0;36m, line \u001b[0;32m1\u001b[0m\n\u001b[0;31m    inputs = [<от чего завсит функция>]\u001b[0m\n\u001b[0m              ^\u001b[0m\n\u001b[0;31mSyntaxError\u001b[0m\u001b[0;31m:\u001b[0m invalid syntax\n"
     ]
    }
   ],
   "source": [
    "inputs = [<от чего завсит функция>]\n",
    "outputs = [<что вычисляет функция (можно сразу несколько - списком, либо 1 преобразование)>]\n",
    "\n",
    "# можно скомпилировать написанные нами преобразования как функцию\n",
    "my_function = theano.function(\n",
    "    inputs,outputs,\n",
    "    allow_input_downcast=True #автоматически прводить типы (необязательно)\n",
    " )"
   ]
  },
  {
   "cell_type": "code",
   "execution_count": 39,
   "metadata": {
    "collapsed": false
   },
   "outputs": [
    {
     "name": "stdout",
     "output_type": "stream",
     "text": [
      "using python lists:\n"
     ]
    },
    {
     "ename": "TypeError",
     "evalue": "'TensorVariable' object is not callable",
     "output_type": "error",
     "traceback": [
      "\u001b[0;31m---------------------------------------------------------------------------\u001b[0m",
      "\u001b[0;31mTypeError\u001b[0m                                 Traceback (most recent call last)",
      "\u001b[0;32m<ipython-input-39-c38696e595c6>\u001b[0m in \u001b[0;36m<module>\u001b[0;34m()\u001b[0m\n\u001b[1;32m      1\u001b[0m \u001b[0;31m#можно вызвать вот-так:\u001b[0m\u001b[0;34m\u001b[0m\u001b[0;34m\u001b[0m\u001b[0m\n\u001b[1;32m      2\u001b[0m \u001b[0;32mprint\u001b[0m \u001b[0;34m\"using python lists:\"\u001b[0m\u001b[0;34m\u001b[0m\u001b[0m\n\u001b[0;32m----> 3\u001b[0;31m \u001b[0;32mprint\u001b[0m \u001b[0mmy_transformation\u001b[0m\u001b[0;34m(\u001b[0m\u001b[0;34m[\u001b[0m\u001b[0;36m1\u001b[0m\u001b[0;34m,\u001b[0m\u001b[0;36m2\u001b[0m\u001b[0;34m,\u001b[0m\u001b[0;36m3\u001b[0m\u001b[0;34m]\u001b[0m\u001b[0;34m,\u001b[0m\u001b[0;34m[\u001b[0m\u001b[0;36m4\u001b[0m\u001b[0;34m,\u001b[0m\u001b[0;36m5\u001b[0m\u001b[0;34m,\u001b[0m\u001b[0;36m6\u001b[0m\u001b[0;34m]\u001b[0m\u001b[0;34m)\u001b[0m\u001b[0;34m\u001b[0m\u001b[0m\n\u001b[0m\u001b[1;32m      4\u001b[0m \u001b[0;34m\u001b[0m\u001b[0m\n\u001b[1;32m      5\u001b[0m \u001b[0;34m\u001b[0m\u001b[0m\n",
      "\u001b[0;31mTypeError\u001b[0m: 'TensorVariable' object is not callable"
     ]
    }
   ],
   "source": [
    "#можно вызвать вот-так:\n",
    "print \"using python lists:\"\n",
    "print my_transformation([1,2,3],[4,5,6])\n",
    "\n",
    "\n",
    "#а можно так. \n",
    "#К слову, ту тип float приводится к типу второго вектора\n",
    "print \"using numpy arrays:\"\n",
    "print my_function(np.arange(10),\n",
    "                  np.linspace(5,6,10,dtype='float'))\n"
   ]
  },
  {
   "cell_type": "markdown",
   "metadata": {},
   "source": [
    "# хинт для отладки\n",
    "* Если ваша функция большая, компиляция может отнять какое-то время.\n",
    "* Чтобы не ждать, можно посчитать выражение без компиляции\n",
    "* Вы экономите время 1 раз на компиляции, но сам код выполняется медленнее\n"
   ]
  },
  {
   "cell_type": "code",
   "execution_count": 40,
   "metadata": {
    "collapsed": false
   },
   "outputs": [
    {
     "name": "stdout",
     "output_type": "stream",
     "text": [
      "[  2.1721766    5.23752832  15.77397728]\n",
      "сумма 2 векторов [ 5.  7.  9.]\n",
      "форма первого вектора [3]\n"
     ]
    }
   ],
   "source": [
    "#словарик значений для входов\n",
    "my_function_inputs = {\n",
    "    my_vector:[1,2,3],\n",
    "    my_vector2:[4,5,6]\n",
    "}\n",
    "\n",
    "#вычислить без компиляции\n",
    "#если мы ничего не перепутали, \n",
    "#должно получиться точно то же, что и раньше\n",
    "print my_transformation.eval(my_function_inputs)\n",
    "\n",
    "\n",
    "#можно вычислять преобразования на ходу\n",
    "print \"сумма 2 векторов\", (my_vector + my_vector2).eval(my_function_inputs)\n",
    "\n",
    "#!ВАЖНО! если преобразование зависит только от части переменных,\n",
    "#остальные давать не надо\n",
    "print \"форма первого вектора\", my_vector.shape.eval({\n",
    "        my_vector:[1,2,3]\n",
    "    })\n"
   ]
  },
  {
   "cell_type": "markdown",
   "metadata": {},
   "source": [
    "* Для отладки желательно уменьшить масштаб задачи. Если вы планировали послать на вход вектор из 10^9 примеров, пошлите 10~100.\n",
    "* Если #ОЧЕНЬ нужно послать большой вектор, быстрее скомпилировать функцию обычным способом"
   ]
  },
  {
   "cell_type": "markdown",
   "metadata": {},
   "source": [
    "# Теперь сам"
   ]
  },
  {
   "cell_type": "code",
   "execution_count": 143,
   "metadata": {
    "collapsed": false
   },
   "outputs": [
    {
     "data": {
      "text/plain": [
       "array(1753.5)"
      ]
     },
     "execution_count": 143,
     "metadata": {},
     "output_type": "execute_result"
    }
   ],
   "source": [
    "# Задание 1 - напиши и скомпилируй theano-функцию, которая считает среднеквадратичную ошибку двух векторов-входов\n",
    "# Вернуть нужно одно число - собственно, ошибку. Обновлять ничего не нужно\n",
    "\n",
    "#твой код - входы и преобразования>\n",
    "\n",
    "x = T.dvector('x')\n",
    "\n",
    "y = T.dvector('y')\n",
    "              \n",
    "s = (x-y)**2\n",
    "\n",
    "summ = T.sum(s)/np.size(s)\n",
    "              \n",
    "compute_mse = theano.function([[x], [y]], summ)\n",
    "\n",
    "compute_mse([2, 4, 7, 9], [8, 9, 90, 1])\n",
    "\n"
   ]
  },
  {
   "cell_type": "code",
   "execution_count": 140,
   "metadata": {
    "collapsed": true
   },
   "outputs": [],
   "source": []
  },
  {
   "cell_type": "code",
   "execution_count": null,
   "metadata": {
    "collapsed": true
   },
   "outputs": [],
   "source": []
  },
  {
   "cell_type": "code",
   "execution_count": 144,
   "metadata": {
    "collapsed": false
   },
   "outputs": [
    {
     "name": "stdout",
     "output_type": "stream",
     "text": [
      "All tests passed\n"
     ]
    }
   ],
   "source": [
    "#тесты\n",
    "from sklearn.metrics import mean_squared_error\n",
    "\n",
    "for n in [1,5,10,10**3]:\n",
    "    \n",
    "    elems = [np.arange(n),np.arange(n,0,-1), np.zeros(n),\n",
    "             np.ones(n),np.random.random(n),np.random.randint(100,size=n)]\n",
    "    \n",
    "    for el in elems:\n",
    "        for el_2 in elems:\n",
    "            true_mse = np.array(mean_squared_error(el,el_2))\n",
    "            my_mse = (compute_mse(el,el_2))\n",
    "            if not np.allclose(true_mse,my_mse):\n",
    "                print 'Wrong result:'\n",
    "                print 'mse(%s,%s)'%(el,el_2)\n",
    "                print \"should be: %f, but your function returned %f\"%(true_mse,my_mse)\n",
    "                raise ValueError,\"Что-то не так\"\n",
    "\n",
    "print \"All tests passed\"\n",
    "            \n",
    "    "
   ]
  },
  {
   "cell_type": "markdown",
   "metadata": {},
   "source": [
    "# Shared variables\n",
    "\n",
    "* Входы и преобразования - части рецепта. \n",
    " * Они существуют только во время вызова функции.\n",
    "\n",
    "\n",
    "* Shared переменные - всегда остаются в памяти\n",
    " * им можно поменять значение \n",
    "   * (но не внутри символического графа. Об этом позже)\n",
    " * их можно включить в граф вычислений\n",
    " \n",
    " \n",
    "* хинт - в таких переменных удобно хранить параметры и гиперпараметры\n",
    " * например, веса нейронки или learning rate, если вы его меняете"
   ]
  },
  {
   "cell_type": "code",
   "execution_count": null,
   "metadata": {
    "collapsed": true
   },
   "outputs": [],
   "source": []
  },
  {
   "cell_type": "code",
   "execution_count": 145,
   "metadata": {
    "collapsed": false
   },
   "outputs": [],
   "source": [
    "#cоздадим расшаренную перменную\n",
    "shared_vector_1 = theano.shared(np.ones(10,dtype='float64'))"
   ]
  },
  {
   "cell_type": "code",
   "execution_count": 146,
   "metadata": {
    "collapsed": false
   },
   "outputs": [
    {
     "name": "stdout",
     "output_type": "stream",
     "text": [
      "initial value [ 1.  1.  1.  1.  1.  1.  1.  1.  1.  1.]\n"
     ]
    }
   ],
   "source": [
    "\n",
    "#получить (численное) значение переменной\n",
    "print \"initial value\",shared_vector_1.get_value()"
   ]
  },
  {
   "cell_type": "code",
   "execution_count": 147,
   "metadata": {
    "collapsed": false
   },
   "outputs": [
    {
     "name": "stdout",
     "output_type": "stream",
     "text": [
      "new value [ 0.  1.  2.  3.  4.]\n"
     ]
    }
   ],
   "source": [
    "#задать новое значение\n",
    "shared_vector_1.set_value( np.arange(5) )\n",
    "\n",
    "#проверим значение\n",
    "print \"new value\", shared_vector_1.get_value()\n",
    "\n",
    "#Заметь, что раньше это был вектор из 10 элементов, а сейчас - из 5. \n",
    "#Если граф при этом остался выполним, это сработает."
   ]
  },
  {
   "cell_type": "markdown",
   "metadata": {},
   "source": [
    "# Теперь сам"
   ]
  },
  {
   "cell_type": "code",
   "execution_count": 148,
   "metadata": {
    "collapsed": false
   },
   "outputs": [
    {
     "data": {
      "text/plain": [
       "array([  0.,   9.,  18.,  27.,  36.])"
      ]
     },
     "execution_count": 148,
     "metadata": {},
     "output_type": "execute_result"
    }
   ],
   "source": [
    "a = T.dvector('a')\n",
    "b = T.dscalar('b')\n",
    "\n",
    "c = a * b\n",
    "\n",
    "f = theano.function([[a], [b]], c)\n",
    "f(shared_vector_1.get_value(), 9)\n"
   ]
  },
  {
   "cell_type": "code",
   "execution_count": 149,
   "metadata": {
    "collapsed": false
   },
   "outputs": [],
   "source": [
    "#напиши рецепт (преобразование), которое считает произведение(поэллементное) shared_vector на input_scalar\n",
    "#скомпилируй это в функцию от input_scalar\n",
    "\n",
    "input_scalar = T.scalar('coefficient',dtype='float32')\n",
    "\n",
    "scalar_times_shared = input_scalar*shared_vector_1\n",
    "\n",
    "\n",
    "shared_times_n = theano.function([input_scalar], scalar_times_shared)\n"
   ]
  },
  {
   "cell_type": "code",
   "execution_count": 150,
   "metadata": {
    "collapsed": false
   },
   "outputs": [
    {
     "name": "stdout",
     "output_type": "stream",
     "text": [
      "shared: [ 0.  1.  2.  3.  4.]\n",
      "shared_times_n(5) [  0.   5.  10.  15.  20.]\n",
      "shared_times_n(-0.5) [-0.  -0.5 -1.  -1.5 -2. ]\n"
     ]
    }
   ],
   "source": [
    "print \"shared:\", shared_vector_1.get_value()\n",
    "\n",
    "print \"shared_times_n(5)\",shared_times_n(5)\n",
    "\n",
    "print \"shared_times_n(-0.5)\",shared_times_n(-0.5)\n"
   ]
  },
  {
   "cell_type": "code",
   "execution_count": 151,
   "metadata": {
    "collapsed": false
   },
   "outputs": [
    {
     "name": "stdout",
     "output_type": "stream",
     "text": [
      "shared: [-1.  0.  1.]\n",
      "shared_times_n(5) [-5.  0.  5.]\n",
      "shared_times_n(-0.5) [ 0.5 -0.  -0.5]\n"
     ]
    }
   ],
   "source": [
    "#поменяем значение shared_vector_1\n",
    "shared_vector_1.set_value([-1,0,1])\n",
    "print \"shared:\", shared_vector_1.get_value()\n",
    "\n",
    "print \"shared_times_n(5)\",shared_times_n(5)\n",
    "\n",
    "print \"shared_times_n(-0.5)\",shared_times_n(-0.5)\n"
   ]
  },
  {
   "cell_type": "markdown",
   "metadata": {},
   "source": [
    "# T.grad, самое вкусное\n",
    "* theano умеет само считать производные. Все, которые существуют.\n",
    "* Производные считаются в символическом, а не численном виде\n",
    "\n",
    "Ограничения\n",
    "* За раз можно считать производную __скалярной__ функции по одной или нескольким скалярным или векторным аргументам\n",
    "* Функция должна на всех этапах своего вычисления иметь тип float32 или float64 (т.к. на множестве целых чисел производная не имеет смысл)"
   ]
  },
  {
   "cell_type": "code",
   "execution_count": 152,
   "metadata": {
    "collapsed": false
   },
   "outputs": [],
   "source": [
    "my_scalar = T.scalar(name='input',dtype='float64')\n",
    "\n",
    "scalar_squared = T.sum(my_scalar**2)\n",
    "\n",
    "#производная v_squared по my_vector\n",
    "derivative = T.grad(scalar_squared,my_scalar)\n",
    "\n",
    "fun = theano.function([my_scalar],scalar_squared)\n",
    "grad = theano.function([my_scalar],derivative) "
   ]
  },
  {
   "cell_type": "code",
   "execution_count": 153,
   "metadata": {
    "collapsed": false
   },
   "outputs": [
    {
     "data": {
      "text/plain": [
       "<matplotlib.legend.Legend at 0x7fd37c1b7dd0>"
      ]
     },
     "execution_count": 153,
     "metadata": {},
     "output_type": "execute_result"
    },
    {
     "data": {
      "image/png": "[encoded data removed]",
      "text/plain": [
       "<matplotlib.figure.Figure at 0x7fd37df2ac90>"
      ]
     },
     "metadata": {},
     "output_type": "display_data"
    }
   ],
   "source": [
    "import matplotlib.pyplot as plt\n",
    "%matplotlib inline\n",
    "\n",
    "\n",
    "x = np.linspace(-3,3)\n",
    "x_squared = map(fun,x)\n",
    "x_squared_der = map(grad,x)\n",
    "\n",
    "plt.plot(x, x_squared,label=\"x^2\")\n",
    "plt.plot(x, x_squared_der, label=\"derivative\")\n",
    "plt.legend()"
   ]
  },
  {
   "cell_type": "markdown",
   "metadata": {},
   "source": [
    "# теперь сам"
   ]
  },
  {
   "cell_type": "code",
   "execution_count": 155,
   "metadata": {
    "collapsed": false
   },
   "outputs": [],
   "source": [
    "\n",
    "my_vector = T.vector('float64')\n",
    "\n",
    "#посчитай производные этой функции по my_scalar и my_vector\n",
    "#warning! Не пытайся понять физический смысл этой функции\n",
    "weird_psychotic_function = ((my_vector+my_scalar)**(1+T.var(my_vector)) +1./T.arcsinh(my_scalar)).mean()/(my_scalar**2 +1) + 0.01*T.sin(2*my_scalar**1.5)*(T.sum(my_vector)* my_scalar**2)*T.exp((my_scalar-4)**2)/(1+T.exp((my_scalar-4)**2))*(1.-(T.exp(-(my_scalar-4)**2))/(1+T.exp(-(my_scalar-4)**2)))**2\n",
    "\n",
    "\n",
    "der_by_scalar,der_by_vector = T.grad(weird_psychotic_function, my_scalar), T.grad(weird_psychotic_function, my_vector)\n",
    "\n",
    "\n",
    "compute_weird_function = theano.function([my_scalar,my_vector],weird_psychotic_function)\n",
    "compute_der_by_scalar = theano.function([my_scalar,my_vector],der_by_scalar)\n"
   ]
  },
  {
   "cell_type": "code",
   "execution_count": 156,
   "metadata": {
    "collapsed": false
   },
   "outputs": [
    {
     "data": {
      "text/plain": [
       "<matplotlib.legend.Legend at 0x7fd376b9aa10>"
      ]
     },
     "execution_count": 156,
     "metadata": {},
     "output_type": "execute_result"
    },
    {
     "data": {
      "image/png": "[encoded data removed]",
      "text/plain": [
       "<matplotlib.figure.Figure at 0x7fd376b9a9d0>"
      ]
     },
     "metadata": {},
     "output_type": "display_data"
    }
   ],
   "source": [
    "#график функции и твоей производной\n",
    "vector_0 = [1,2,3]\n",
    "\n",
    "scalar_space = np.linspace(0,7)\n",
    "\n",
    "y = [compute_weird_function(x,vector_0) for x in scalar_space]\n",
    "plt.plot(scalar_space,y,label='function')\n",
    "y_der_by_scalar = [compute_der_by_scalar(x,vector_0) for x in scalar_space]\n",
    "plt.plot(scalar_space,y_der_by_scalar,label='derivative')\n",
    "plt.grid();plt.legend()\n"
   ]
  },
  {
   "cell_type": "markdown",
   "metadata": {},
   "source": [
    "# Последний штрих - Updates\n",
    "\n",
    "* updates - это способ изменять значения shared переменных каждый раз В КОНЦЕ вызова функции\n",
    "\n",
    "* фактически, это словарь {shared_переменная: рецепт нового значения}, который добавляется в функцию при компиляции\n",
    "\n",
    "Например,"
   ]
  },
  {
   "cell_type": "code",
   "execution_count": 157,
   "metadata": {
    "collapsed": false
   },
   "outputs": [],
   "source": [
    "#умножим shared вектор на число и сохраним новое значение обратно в этот shared вектор\n",
    "\n",
    "inputs = [input_scalar]\n",
    "outputs = [scalar_times_shared] #вернём вектор, умноженный на число\n",
    "\n",
    "my_updates = {\n",
    "    shared_vector_1:scalar_times_shared #и этот же результат запишем в shared_vector_1\n",
    "}\n",
    "\n",
    "compute_and_save = theano.function(inputs, outputs, updates=my_updates)"
   ]
  },
  {
   "cell_type": "code",
   "execution_count": 158,
   "metadata": {
    "collapsed": false
   },
   "outputs": [
    {
     "name": "stdout",
     "output_type": "stream",
     "text": [
      "initial shared value: [ 0.  1.  2.  3.  4.]\n",
      "compute_and_save(2) returns [array([ 0.,  2.,  4.,  6.,  8.])]\n",
      "new shared value: [ 0.  2.  4.  6.  8.]\n"
     ]
    }
   ],
   "source": [
    "shared_vector_1.set_value(np.arange(5))\n",
    "\n",
    "#изначальное значение shared_vector_1\n",
    "print \"initial shared value:\" ,shared_vector_1.get_value()\n",
    "\n",
    "# теперь вычислим функцию (значение shared_vector_1 при этом поменяется)\n",
    "print \"compute_and_save(2) returns\",compute_and_save(2)\n",
    "\n",
    "#проверим, что в shared_vector_1\n",
    "print \"new shared value:\" ,shared_vector_1.get_value()\n",
    "\n"
   ]
  },
  {
   "cell_type": "markdown",
   "metadata": {},
   "source": [
    "# Логистическая регрессия\n",
    "Что нам потребуется:\n",
    "* Веса лучше хранить в shared-переменной\n",
    "* Данные можно передавать как input\n",
    "* Нужно 2 функции:\n",
    " * train_function(X,y) - возвращает ошибку и изменяет веса на 1 шаг по граиденту __(через updates)__\n",
    " * predict_fun(X) - возвращает предсказанные ответы (\"y\") по данным"
   ]
  },
  {
   "cell_type": "code",
   "execution_count": 159,
   "metadata": {
    "collapsed": false
   },
   "outputs": [
    {
     "name": "stdout",
     "output_type": "stream",
     "text": [
      "y [форма - (360,)]: [0 1 0 1 0 1 0 0 1 1]\n",
      "X [форма - (360, 64)]:\n",
      "[[  0.   0.   5.  13.   9.   1.   0.   0.   0.   0.  13.  15.  10.  15.\n",
      "    5.   0.   0.   3.  15.   2.   0.  11.   8.   0.   0.   4.  12.   0.\n",
      "    0.   8.   8.   0.   0.   5.   8.   0.   0.   9.   8.   0.   0.   4.\n",
      "   11.   0.   1.  12.   7.   0.   0.   2.  14.   5.  10.  12.   0.   0.\n",
      "    0.   0.   6.  13.  10.   0.   0.   0.]\n",
      " [  0.   0.   0.  12.  13.   5.   0.   0.   0.   0.   0.  11.  16.   9.\n",
      "    0.   0.   0.   0.   3.  15.  16.   6.   0.   0.   0.   7.  15.  16.\n",
      "   16.   2.   0.   0.   0.   0.   1.  16.  16.   3.   0.   0.   0.   0.\n",
      "    1.  16.  16.   6.   0.   0.   0.   0.   1.  16.  16.   6.   0.   0.\n",
      "    0.   0.   0.  11.  16.  10.   0.   0.]\n",
      " [  0.   0.   1.   9.  15.  11.   0.   0.   0.   0.  11.  16.   8.  14.\n",
      "    6.   0.   0.   2.  16.  10.   0.   9.   9.   0.   0.   1.  16.   4.\n",
      "    0.   8.   8.   0.   0.   4.  16.   4.   0.   8.   8.   0.   0.   1.\n",
      "   16.   5.   1.  11.   3.   0.   0.   0.  12.  12.  10.  10.   0.   0.\n",
      "    0.   0.   1.  10.  13.   3.   0.   0.]]\n"
     ]
    }
   ],
   "source": [
    "from sklearn.datasets import load_digits\n",
    "mnist = load_digits(2)\n",
    "\n",
    "X,y = mnist.data, mnist.target\n",
    "\n",
    "\n",
    "print \"y [форма - %s]:\"%(str(y.shape)),y[:10]\n",
    "\n",
    "print \"X [форма - %s]:\"%(str(X.shape))\n",
    "print X[:3]"
   ]
  },
  {
   "cell_type": "code",
   "execution_count": null,
   "metadata": {
    "collapsed": false
   },
   "outputs": [],
   "source": [
    "# переменные и входы\n",
    "shared_weights = <твой код>\n",
    "input_X = <твой код>\n",
    "input_y = <твой код>"
   ]
  },
  {
   "cell_type": "code",
   "execution_count": null,
   "metadata": {
    "collapsed": true
   },
   "outputs": [],
   "source": [
    "predicted_y = <предсказание логрегрессии на input_X (вероятность класса)>\n",
    "loss = <логистическая ошибка (число - среднее по выборке)>\n",
    "\n",
    "grad = <градиент loss по весам модели>\n",
    "\n",
    "\n",
    "\n",
    "updates = {\n",
    "    shared_weights: <новое значение весов после шага градиентного спуска>\n",
    "}"
   ]
  },
  {
   "cell_type": "code",
   "execution_count": null,
   "metadata": {
    "collapsed": true
   },
   "outputs": [],
   "source": [
    "train_function = <функция, которая по X и Y возвращает ошибку и обновляет веса>\n",
    "predict_function = <функция, которая по X считает предсказание для y>"
   ]
  },
  {
   "cell_type": "code",
   "execution_count": null,
   "metadata": {
    "collapsed": false
   },
   "outputs": [],
   "source": [
    "from sklearn.cross_validation import train_test_split\n",
    "X_train,X_test,y_train,y_test = train_test_split(X,y)"
   ]
  },
  {
   "cell_type": "code",
   "execution_count": null,
   "metadata": {
    "collapsed": false
   },
   "outputs": [],
   "source": [
    "from sklearn.metrics import roc_auc_score\n",
    "\n",
    "for i in range(5):\n",
    "    loss_i = train_function(X_train,y_train)\n",
    "    print \"loss at iter %i:%.4f\"%(i,loss_i)\n",
    "    print \"train auc:\",roc_auc_score(y_train,predict_function(X_train))\n",
    "    print \"test auc:\",roc_auc_score(y_test,predict_function(X_test))\n",
    "\n",
    "    \n",
    "print \"resulting weights:\"\n",
    "plt.imshow(shared_weights.get_value().reshape(8,-1))\n",
    "plt.colorbar()"
   ]
  }
 ],
 "metadata": {
  "anaconda-cloud": {},
  "kernelspec": {
   "display_name": "Python 2",
   "language": "python",
   "name": "python2"
  },
  "language_info": {
   "codemirror_mode": {
    "name": "ipython",
    "version": 2
   },
   "file_extension": ".py",
   "mimetype": "text/x-python",
   "name": "python",
   "nbconvert_exporter": "python",
   "pygments_lexer": "ipython2",
   "version": "2.7.6"
  }
 },
 "nbformat": 4,
 "nbformat_minor": 0
}
