{
 "cells": [
  {
   "cell_type": "code",
   "execution_count": 13,
   "metadata": {
    "collapsed": true
   },
   "outputs": [],
   "source": [
    "import numpy as np\n",
    "from sklearn.datasets import fetch_20newsgroups\n",
    "from collections import Counter\n",
    "import heapq\n",
    "import nltk\n",
    "from nltk.corpus import stopwords\n",
    "import itertools\n",
    "%matplotlib inline"
   ]
  },
  {
   "cell_type": "code",
   "execution_count": 3,
   "metadata": {
    "collapsed": false
   },
   "outputs": [
    {
     "name": "stdout",
     "output_type": "stream",
     "text": [
      "[nltk_data] Downloading package stopwords to /home/tylorn/nltk_data...\n",
      "[nltk_data]   Package stopwords is already up-to-date!\n"
     ]
    },
    {
     "data": {
      "text/plain": [
       "True"
      ]
     },
     "execution_count": 3,
     "metadata": {},
     "output_type": "execute_result"
    }
   ],
   "source": [
    "nltk.download('stopwords')"
   ]
  },
  {
   "cell_type": "code",
   "execution_count": 4,
   "metadata": {
    "collapsed": true
   },
   "outputs": [],
   "source": [
    "english_stopwords = set(stopwords.words('english'))"
   ]
  },
  {
   "cell_type": "code",
   "execution_count": 5,
   "metadata": {
    "collapsed": true
   },
   "outputs": [],
   "source": [
    "dataset = fetch_20newsgroups(\n",
    "    remove=('headers', 'footers', 'quotes')\n",
    ")"
   ]
  },
  {
   "cell_type": "code",
   "execution_count": 10,
   "metadata": {
    "collapsed": false
   },
   "outputs": [
    {
     "name": "stdout",
     "output_type": "stream",
     "text": [
      "Processed:  0 documents from 11314\n",
      "Processed:  500 documents from 11314\n",
      "Processed:  1000 documents from 11314\n",
      "Processed:  1500 documents from 11314\n",
      "Processed:  2000 documents from 11314\n",
      "Processed:  2500 documents from 11314\n",
      "Processed:  3000 documents from 11314\n",
      "Processed:  3500 documents from 11314\n",
      "Processed:  4000 documents from 11314\n",
      "Processed:  4500 documents from 11314\n",
      "Processed:  5000 documents from 11314\n",
      "Processed:  5500 documents from 11314\n",
      "Processed:  6000 documents from 11314\n",
      "Processed:  6500 documents from 11314\n",
      "Processed:  7000 documents from 11314\n",
      "Processed:  7500 documents from 11314\n",
      "Processed:  8000 documents from 11314\n",
      "Processed:  8500 documents from 11314\n",
      "Processed:  9000 documents from 11314\n",
      "Processed:  9500 documents from 11314\n",
      "Processed:  10000 documents from 11314\n",
      "Processed:  10500 documents from 11314\n",
      "Processed:  11000 documents from 11314\n"
     ]
    }
   ],
   "source": [
    "pured_documents = []\n",
    "for i, doc in enumerate(dataset.data):\n",
    "    tokens = gensim.utils.lemmatize(doc)\n",
    "    document = []\n",
    "    for token in tokens:\n",
    "        word = token.split('/')[0]\n",
    "        if word not in english_stopwords:\n",
    "            document.append(word)\n",
    "    pured_documents.append(document)    \n",
    "    if i % 500 == 0:\n",
    "        print 'Processed: ', i, 'documents from', len(dataset.data)"
   ]
  },
  {
   "cell_type": "code",
   "execution_count": 35,
   "metadata": {
    "collapsed": false
   },
   "outputs": [],
   "source": [
    "text = nltk.Text(list(itertools.chain.from_iterable(pured_documents)))"
   ]
  },
  {
   "cell_type": "code",
   "execution_count": 137,
   "metadata": {
    "collapsed": false
   },
   "outputs": [],
   "source": [
    "class NltkHatPlayer(object):\n",
    "    def __init__(self):\n",
    "        pass\n",
    "    \n",
    "    def guess(self, words):\n",
    "        candidates = Counter()\n",
    "        for word in words:\n",
    "            for w in self.explain(word)[:5]:\n",
    "                candidates[w] += 1\n",
    "        for word in words:\n",
    "            if word in candidates:\n",
    "                del candidates[word]\n",
    "        return [x for x, _ in candidates.most_common(len(candidates))]\n",
    "    \n",
    "    def explain(self, word):\n",
    "        return text._word_context_index.similar_words(word)\n",
    "    \n",
    "    def guess_result(self, position):\n",
    "        pass\n",
    "    \n",
    "    def explanation_result(self, position):\n",
    "        pass"
   ]
  },
  {
   "cell_type": "code",
   "execution_count": null,
   "metadata": {
    "collapsed": true
   },
   "outputs": [],
   "source": []
  },
  {
   "cell_type": "code",
   "execution_count": 48,
   "metadata": {
    "collapsed": false
   },
   "outputs": [],
   "source": [
    "from gensim.models import Word2Vec"
   ]
  },
  {
   "cell_type": "code",
   "execution_count": 107,
   "metadata": {
    "collapsed": true
   },
   "outputs": [],
   "source": [
    "model = Word2Vec(pured_documents, size=100, window=5, min_count=5, workers=4)"
   ]
  },
  {
   "cell_type": "code",
   "execution_count": 125,
   "metadata": {
    "collapsed": true
   },
   "outputs": [],
   "source": [
    "class GensimHatPlayer(object):\n",
    "    def __init__(self):\n",
    "        pass\n",
    "    \n",
    "    def guess(self, words):\n",
    "        return [x for x, _ in model.most_similar(positive=words)]\n",
    "    \n",
    "    def explain(self, word):\n",
    "        return [x for x, _ in model.most_similar(positive=[word])]\n",
    "    \n",
    "    def guess_result(self, position):\n",
    "        pass\n",
    "    \n",
    "    def explanation_result(self, position):\n",
    "        pass"
   ]
  },
  {
   "cell_type": "code",
   "execution_count": null,
   "metadata": {
    "collapsed": true
   },
   "outputs": [],
   "source": []
  },
  {
   "cell_type": "code",
   "execution_count": 126,
   "metadata": {
    "collapsed": false
   },
   "outputs": [],
   "source": [
    "words_universe = model.vocab.keys()\n",
    "words_universe_set = set(model.vocab.keys())"
   ]
  },
  {
   "cell_type": "code",
   "execution_count": 127,
   "metadata": {
    "collapsed": true
   },
   "outputs": [],
   "source": [
    "def calc_score(player1, player2, word):\n",
    "    explanation = [x for x in player1.explain(word) if x in words_universe_set][:10]\n",
    "    exp_score = 0.\n",
    "    if word in explanation:\n",
    "        exp_score -= 1.0\n",
    "    guess_score = 0.\n",
    "    if len(explanation) > 0:\n",
    "        for pref in xrange(10):\n",
    "            guess = player2.guess(explanation[:pref + 1])[:10]\n",
    "            try:\n",
    "                pos = guess.index(word)\n",
    "                player1.explanation_result(pos)\n",
    "                player2.guess_result(pos)\n",
    "                guess_score += 0.9 ** pos\n",
    "                exp_score += 0.9 ** pos\n",
    "            except ValueError:\n",
    "                player1.explanation_result(None)\n",
    "                player2.guess_result(None)\n",
    "    return exp_score, guess_score\n",
    "\n",
    "\n",
    "def play(player1, player2, rounds, seed=42):\n",
    "    random_gen = np.random.RandomState(seed)\n",
    "    player1_exp_score = 0.\n",
    "    player1_guess_score = 0.\n",
    "    player2_exp_score = 0.\n",
    "    player2_guess_score = 0.\n",
    "    for _ in xrange(rounds):\n",
    "        word = random_gen.choice(words_universe)\n",
    "        player1_exp, player2_guess = calc_score(player1, player2, word)\n",
    "        player2_exp, player1_guess = calc_score(player2, player1, word)\n",
    "        player1_explanation = player1.explain(word)\n",
    "        player2_explanation = player1.explain(word)\n",
    "        \n",
    "        player1_exp_score += player1_exp\n",
    "        player2_exp_score += player2_exp\n",
    "        player1_guess_score += player1_guess\n",
    "        player2_guess_score += player2_guess\n",
    "        \n",
    "    return (\n",
    "        (player1_exp_score, player1_guess_score, player1_guess_score + player1_exp_score),\n",
    "        (player2_exp_score, player2_guess_score, player2_guess_score + player2_exp_score)\n",
    "    )"
   ]
  },
  {
   "cell_type": "code",
   "execution_count": 130,
   "metadata": {
    "collapsed": false
   },
   "outputs": [
    {
     "name": "stdout",
     "output_type": "stream",
     "text": [
      "CPU times: user 29.4 s, sys: 8 ms, total: 29.5 s\n",
      "Wall time: 29.5 s\n"
     ]
    },
    {
     "data": {
      "text/plain": [
       "((7711.607091618994, 7711.607091618994, 15423.214183237988),\n",
       " (7711.607091618994, 7711.607091618994, 15423.214183237988))"
      ]
     },
     "execution_count": 130,
     "metadata": {},
     "output_type": "execute_result"
    }
   ],
   "source": [
    "%%time\n",
    "play(GensimHatPlayer(), GensimHatPlayer(), 1000)"
   ]
  },
  {
   "cell_type": "code",
   "execution_count": 139,
   "metadata": {
    "collapsed": false
   },
   "outputs": [
    {
     "name": "stdout",
     "output_type": "stream",
     "text": [
      "CPU times: user 19 s, sys: 0 ns, total: 19 s\n",
      "Wall time: 19 s\n"
     ]
    },
    {
     "data": {
      "text/plain": [
       "((168.55873737700003, 149.20426826800002, 317.763005645),\n",
       " (149.20426826800002, 168.55873737700003, 317.763005645))"
      ]
     },
     "execution_count": 139,
     "metadata": {},
     "output_type": "execute_result"
    }
   ],
   "source": [
    "%%time\n",
    "play(NltkHatPlayer(), GensimHatPlayer(), 1000)"
   ]
  },
  {
   "cell_type": "code",
   "execution_count": 138,
   "metadata": {
    "collapsed": false
   },
   "outputs": [
    {
     "name": "stdout",
     "output_type": "stream",
     "text": [
      "CPU times: user 2min 28s, sys: 28 ms, total: 2min 28s\n",
      "Wall time: 2min 28s\n"
     ]
    },
    {
     "data": {
      "text/plain": [
       "((2190.7444470920013, 2190.7444470920013, 4381.488894184003),\n",
       " (2190.7444470920013, 2190.7444470920013, 4381.488894184003))"
      ]
     },
     "execution_count": 138,
     "metadata": {},
     "output_type": "execute_result"
    }
   ],
   "source": [
    "%%time\n",
    "play(NltkHatPlayer(), NltkHatPlayer(), 1000)"
   ]
  },
  {
   "cell_type": "code",
   "execution_count": null,
   "metadata": {
    "collapsed": true
   },
   "outputs": [],
   "source": []
  }
 ],
 "metadata": {
  "kernelspec": {
   "display_name": "Python 2",
   "language": "python",
   "name": "python2"
  },
  "language_info": {
   "codemirror_mode": {
    "name": "ipython",
    "version": 2
   },
   "file_extension": ".py",
   "mimetype": "text/x-python",
   "name": "python",
   "nbconvert_exporter": "python",
   "pygments_lexer": "ipython2",
   "version": "2.7.3"
  }
 },
 "nbformat": 4,
 "nbformat_minor": 0
}
