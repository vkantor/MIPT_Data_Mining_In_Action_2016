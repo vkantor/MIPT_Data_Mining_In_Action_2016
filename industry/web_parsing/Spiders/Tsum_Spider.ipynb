{
 "cells": [
  {
   "cell_type": "code",
   "execution_count": null,
   "metadata": {
    "collapsed": true
   },
   "outputs": [],
   "source": [
    "%%writefile afisha.py\n",
    "# -*- encoding: utf8 -*-\n",
    "\n",
    "import scrapy\n",
    "import requests\n",
    "import pandas\n",
    "\n",
    "def get_url_id(url):\n",
    "    return url.split(\"/\")[-1].split(\".html\")[0]\n",
    "\n",
    "class TsumSpider(scrapy.Spider):\n",
    "    name = \"tsum\"   \n",
    "    def __init__(self, domain='http://www.tsum.ru'):\n",
    "        self.domain = domain\n",
    "        urls_df = pandas.read_pickle('tsum_item_urls.pickle')\n",
    "        self.urls = list(urls_df[\"item_url_path\"])\n",
    "    \n",
    "    def start_requests(self):\n",
    "        for url in self.urls:\n",
    "            yield scrapy.Request(self.domain + url)\n",
    "            \n",
    "    def parse(self, response):\n",
    "        params_dict = dict(zip(response.css(\"div.b-options-list__header ::text\").extract(), response.css(\"div.b-options-list__desc ::text\").extract()))\n",
    "        record = {\n",
    "            \"url\": response.url,\n",
    "            \"url_id\": get_url_id(response.url),\n",
    "            \"vendor\": response.css(\"h1.b-goods-inner__name > span > strong > a ::text\").extract_first(),\n",
    "            \"name\": response.css(\"h1.b-goods-inner__name > span ::text\").extract()[1],\n",
    "            \"price\": int(response.css(\"span.b-goods-inner__price-size ::text\").extract_first().replace(\" \", \"\")),\n",
    "            \"sizes\": \"\\t\".join(response.css(\"span.b-goods-inner__size-num ::text\").extract()),\n",
    "            \"consist\": params_dict.get(u\"Состав\", u\"\"),\n",
    "            \"country\": params_dict.get(u\"Страна производства\", u\"\"),\n",
    "            \"tech_description\": params_dict.get(u\"Техническое описание\", u\"\"),\n",
    "            \"categories\": \"\\t\".join(response.css(\"a.b-breadcrumbs__link.hidden-lg ::text\").extract()),\n",
    "            \"colors\": \"\\t\".join(response.css(\"div.b-goods-inner__colors\").css(\"div.b-goods-gallery__small-img ::attr(title)\").extract()),\n",
    "            \"discont_price\": int(response.css(\"div.b-goods-inner__colors\")[0].css(\"div.b-goods-gallery__small-img\")[0].css(\"::attr(data-discontprice)\").extract_first().replace(\" \", \"\"))\n",
    "        }\n",
    "        \n",
    "        record[\"sales_id\"] = int(response.css(\"div.b-goods-inner__colors\")[0].css(\"div.b-goods-gallery__small-img\")[0].css(\"::attr(data-product)\").extract_first())\n",
    "        \n",
    "        yield record\n",
    "        \n",
    "\n"
   ]
  },
  {
   "cell_type": "code",
   "execution_count": 6,
   "metadata": {
    "collapsed": false
   },
   "outputs": [
    {
     "name": "stdout",
     "output_type": "stream",
     "text": [
      "place_title\n"
     ]
    }
   ],
   "source": [
    "import requests\n",
    "import scrapy\n",
    "\n",
    "resp = requests.get('http://www.afisha.ru/msk/restaurant/35598/')\n",
    "response = scrapy.Selector(text=resp.content)\n",
    "print response.css(\"h1.place_title ::attr(class)\").extract_first()\n"
   ]
  },
  {
   "cell_type": "code",
   "execution_count": null,
   "metadata": {
    "collapsed": true
   },
   "outputs": [],
   "source": []
  }
 ],
 "metadata": {
  "anaconda-cloud": {},
  "kernelspec": {
   "display_name": "Python [default]",
   "language": "python",
   "name": "python2"
  },
  "language_info": {
   "codemirror_mode": {
    "name": "ipython",
    "version": 2
   },
   "file_extension": ".py",
   "mimetype": "text/x-python",
   "name": "python",
   "nbconvert_exporter": "python",
   "pygments_lexer": "ipython2",
   "version": "2.7.12"
  }
 },
 "nbformat": 4,
 "nbformat_minor": 0
}
