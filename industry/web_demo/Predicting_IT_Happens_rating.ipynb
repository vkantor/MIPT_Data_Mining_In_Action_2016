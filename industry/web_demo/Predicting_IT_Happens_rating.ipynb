{
 "cells": [
  {
   "cell_type": "code",
   "execution_count": 1,
   "metadata": {
    "collapsed": false
   },
   "outputs": [
    {
     "name": "stdout",
     "output_type": "stream",
     "text": [
      "Responses have been read: 0\n",
      "Responses have been read: 1000\n",
      "Responses have been read: 2000\n",
      "Responses have been read: 3000\n",
      "Responses have been read: 4000\n",
      "Responses have been read: 5000\n",
      "Responses have been read: 6000\n",
      "Responses have been read: 7000\n",
      "Responses have been read: 8000\n",
      "Responses have been read: 9000\n",
      "Responses have been read: 10000\n"
     ]
    }
   ],
   "source": [
    "import pandas as pd\n",
    "import json\n",
    "\n",
    "\"\"\"\n",
    "Construct data frame:\n",
    "\"\"\"\n",
    "\n",
    "df_columns = [\n",
    "    'text',\n",
    "    'likes'\n",
    "]\n",
    "df = {column: [] for column in df_columns}\n",
    "\n",
    "\n",
    "\"\"\"\n",
    "Read json with responses:\n",
    "\"\"\"\n",
    "\n",
    "with open('./Spiders/ithappens.json') as f:\n",
    "    for n, line in enumerate(f):\n",
    "        \n",
    "        record = json.loads(line)\n",
    "        \n",
    "        df['text'].append(record['text'])\n",
    "        df['likes'].append(record['likes'])\n",
    "        \n",
    "        if n % 1000 == 0:\n",
    "            print \"Responses have been read:\", n\n",
    "\n",
    "df = pd.DataFrame(df).ix[:, df_columns]"
   ]
  },
  {
   "cell_type": "code",
   "execution_count": 2,
   "metadata": {
    "collapsed": false
   },
   "outputs": [],
   "source": [
    "#df2 = df.sort(['likes'], ascending=False)\n",
    "df2 = df.drop_duplicates(['text'])"
   ]
  },
  {
   "cell_type": "code",
   "execution_count": 3,
   "metadata": {
    "collapsed": false
   },
   "outputs": [
    {
     "data": {
      "text/html": [
       "<div>\n",
       "<table border=\"1\" class=\"dataframe\">\n",
       "  <thead>\n",
       "    <tr style=\"text-align: right;\">\n",
       "      <th></th>\n",
       "      <th>text</th>\n",
       "      <th>likes</th>\n",
       "    </tr>\n",
       "  </thead>\n",
       "  <tbody>\n",
       "    <tr>\n",
       "      <th>0</th>\n",
       "      <td>&lt;p&gt;Работаю админом в бюджетной организации. По...</td>\n",
       "      <td>0</td>\n",
       "    </tr>\n",
       "    <tr>\n",
       "      <th>1</th>\n",
       "      <td>&lt;p&gt;Мне тут вспоминилось.&lt;br&gt;Пару лет назад раб...</td>\n",
       "      <td>0</td>\n",
       "    </tr>\n",
       "    <tr>\n",
       "      <th>2</th>\n",
       "      <td>&lt;p&gt;Взяли к нам на работу юрисконсульта.&lt;/p&gt;\\n&lt;...</td>\n",
       "      <td>1</td>\n",
       "    </tr>\n",
       "  </tbody>\n",
       "</table>\n",
       "</div>"
      ],
      "text/plain": [
       "                                                text  likes\n",
       "0  <p>Работаю админом в бюджетной организации. По...      0\n",
       "1  <p>Мне тут вспоминилось.<br>Пару лет назад раб...      0\n",
       "2  <p>Взяли к нам на работу юрисконсульта.</p>\\n<...      1"
      ]
     },
     "execution_count": 3,
     "metadata": {},
     "output_type": "execute_result"
    }
   ],
   "source": [
    "df2.head(3)"
   ]
  },
  {
   "cell_type": "code",
   "execution_count": 15,
   "metadata": {
    "collapsed": false
   },
   "outputs": [
    {
     "data": {
      "text/plain": [
       "9898"
      ]
     },
     "execution_count": 15,
     "metadata": {},
     "output_type": "execute_result"
    }
   ],
   "source": [
    "len(df2)"
   ]
  },
  {
   "cell_type": "code",
   "execution_count": 12,
   "metadata": {
    "collapsed": false
   },
   "outputs": [
    {
     "data": {
      "text/plain": [
       "10893"
      ]
     },
     "execution_count": 12,
     "metadata": {},
     "output_type": "execute_result"
    }
   ],
   "source": [
    "len(df)"
   ]
  },
  {
   "cell_type": "code",
   "execution_count": 5,
   "metadata": {
    "collapsed": false
   },
   "outputs": [],
   "source": [
    "from sklearn.linear_model import LinearRegression\n",
    "from sklearn.feature_extraction.text import CountVectorizer, TfidfVectorizer\n",
    "from random import shuffle\n",
    "\n",
    "frac = 0.2\n",
    "n = len(df2['text'])\n",
    "texts = list(df2['text'])\n",
    "likes = list(df2['likes'])\n",
    "\n",
    "texts_and_likes = zip(texts, likes)\n",
    "shuffle(texts_and_likes)\n",
    "texts, likes = zip(*texts_and_likes)\n",
    "\n",
    "X_train = texts[:-int(frac * n)]\n",
    "y_train = likes[:-int(frac * n)]\n",
    "\n",
    "X_test = texts[-int(frac * n):]\n",
    "y_test = likes[-int(frac * n):]"
   ]
  },
  {
   "cell_type": "code",
   "execution_count": null,
   "metadata": {
    "collapsed": false
   },
   "outputs": [],
   "source": [
    "%%time\n",
    "from sklearn.ensemble import RandomForestRegressor\n",
    "model = RandomForestRegressor(100) #LinearRegression()\n",
    "vectorizer = CountVectorizer()\n",
    "X_train_v = vectorizer.fit_transform(X_train)\n",
    "X_test_v = vectorizer.transform(X_test)\n",
    "model.fit(X_train_v.toarray(), y_train)"
   ]
  },
  {
   "cell_type": "code",
   "execution_count": 27,
   "metadata": {
    "collapsed": true
   },
   "outputs": [],
   "source": [
    "preds = model.predict(X_test_v.toarray())"
   ]
  },
  {
   "cell_type": "code",
   "execution_count": 28,
   "metadata": {
    "collapsed": false
   },
   "outputs": [
    {
     "name": "stdout",
     "output_type": "stream",
     "text": [
      "[  747.96038344  1275.95441574   584.43729898  1340.09288958   956.28263211\n",
      "  1355.12472132  1483.03374754  1229.5509253    984.8264811   1496.17364714]\n"
     ]
    }
   ],
   "source": [
    "print preds[:10]"
   ]
  },
  {
   "cell_type": "code",
   "execution_count": 29,
   "metadata": {
    "collapsed": false
   },
   "outputs": [
    {
     "name": "stdout",
     "output_type": "stream",
     "text": [
      "(1220, 1009, 802, 1360, 1482, 1020, 1886, 485, 1071, 1090)\n"
     ]
    }
   ],
   "source": [
    "print y_test[:10]"
   ]
  },
  {
   "cell_type": "code",
   "execution_count": 35,
   "metadata": {
    "collapsed": true
   },
   "outputs": [],
   "source": [
    "top_pred_texts = [pred for pred, text in sorted(zip(preds, X_test), reverse=True)[:10]]\n",
    "top_ans_texts = [ans for ans, text in sorted(zip(y_test, X_test), reverse=True)[:10]]"
   ]
  },
  {
   "cell_type": "code",
   "execution_count": 37,
   "metadata": {
    "collapsed": false
   },
   "outputs": [
    {
     "name": "stdout",
     "output_type": "stream",
     "text": [
      "5310.0505319\n",
      " --------- \n",
      "4350.2865391\n",
      " --------- \n",
      "4231.58739855\n",
      " --------- \n",
      "3947.05322861\n",
      " --------- \n",
      "3933.25336248\n",
      " --------- \n",
      "3854.88760027\n",
      " --------- \n",
      "3716.74761898\n",
      " --------- \n",
      "3643.94407351\n",
      " --------- \n",
      "3635.01037085\n",
      " --------- \n",
      "3458.72972733\n"
     ]
    }
   ],
   "source": [
    "print \"\\n --------- \\n\".join(map(str, top_pred_texts))"
   ]
  },
  {
   "cell_type": "code",
   "execution_count": 38,
   "metadata": {
    "collapsed": false
   },
   "outputs": [
    {
     "name": "stdout",
     "output_type": "stream",
     "text": [
      "7079\n",
      " --------- \n",
      "6507\n",
      " --------- \n",
      "5217\n",
      " --------- \n",
      "5114\n",
      " --------- \n",
      "5057\n",
      " --------- \n",
      "5041\n",
      " --------- \n",
      "4912\n",
      " --------- \n",
      "4833\n",
      " --------- \n",
      "4824\n",
      " --------- \n",
      "4338\n"
     ]
    }
   ],
   "source": [
    "print \"\\n --------- \\n\".join(map(str, top_ans_texts))"
   ]
  },
  {
   "cell_type": "code",
   "execution_count": 39,
   "metadata": {
    "collapsed": false
   },
   "outputs": [
    {
     "name": "stdout",
     "output_type": "stream",
     "text": [
      "799.608652085\n"
     ]
    }
   ],
   "source": [
    "from sklearn.metrics import mean_squared_error\n",
    "\n",
    "print mean_squared_error(preds, y_test) ** 0.5"
   ]
  },
  {
   "cell_type": "code",
   "execution_count": 42,
   "metadata": {
    "collapsed": false
   },
   "outputs": [
    {
     "name": "stdout",
     "output_type": "stream",
     "text": [
      "1437.43150353\n"
     ]
    }
   ],
   "source": [
    "z = \"Однажды в девяностых я подрабатывал в конторе. Короче всё\"\n",
    "\n",
    "print model.predict(vectorizer.transform([z]))[0]"
   ]
  },
  {
   "cell_type": "code",
   "execution_count": null,
   "metadata": {
    "collapsed": true
   },
   "outputs": [],
   "source": []
  }
 ],
 "metadata": {
  "anaconda-cloud": {},
  "kernelspec": {
   "display_name": "Python [default]",
   "language": "python",
   "name": "python2"
  },
  "language_info": {
   "codemirror_mode": {
    "name": "ipython",
    "version": 2
   },
   "file_extension": ".py",
   "mimetype": "text/x-python",
   "name": "python",
   "nbconvert_exporter": "python",
   "pygments_lexer": "ipython2",
   "version": "2.7.12"
  }
 },
 "nbformat": 4,
 "nbformat_minor": 0
}
