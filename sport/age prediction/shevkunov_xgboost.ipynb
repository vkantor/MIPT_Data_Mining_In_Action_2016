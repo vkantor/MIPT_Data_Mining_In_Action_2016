{
 "cells": [
  {
   "cell_type": "markdown",
   "metadata": {},
   "source": [
    "# Загрузка и предобработка данных"
   ]
  },
  {
   "cell_type": "code",
   "execution_count": 16,
   "metadata": {
    "collapsed": true
   },
   "outputs": [],
   "source": [
    "import numpy\n",
    "import pandas\n",
    "import matplotlib.pyplot as pyplot\n",
    "\n",
    "%matplotlib inline\n",
    "data_folder = \"./data/\""
   ]
  },
  {
   "cell_type": "markdown",
   "metadata": {},
   "source": [
    "Загрузим age_profile_train (['id', 'age'])"
   ]
  },
  {
   "cell_type": "code",
   "execution_count": 12,
   "metadata": {
    "collapsed": false
   },
   "outputs": [
    {
     "data": {
      "text/html": [
       "<div>\n",
       "<table border=\"1\" class=\"dataframe\">\n",
       "  <thead>\n",
       "    <tr style=\"text-align: right;\">\n",
       "      <th></th>\n",
       "      <th>id</th>\n",
       "      <th>age</th>\n",
       "    </tr>\n",
       "  </thead>\n",
       "  <tbody>\n",
       "    <tr>\n",
       "      <th>0</th>\n",
       "      <td>000000013CB5719C0000A2C90002C101</td>\n",
       "      <td>53</td>\n",
       "    </tr>\n",
       "    <tr>\n",
       "      <th>1</th>\n",
       "      <td>00000001442BE24000001B7D00F50801</td>\n",
       "      <td>48</td>\n",
       "    </tr>\n",
       "    <tr>\n",
       "      <th>2</th>\n",
       "      <td>00000001448580F800003F1B31FB0901</td>\n",
       "      <td>28</td>\n",
       "    </tr>\n",
       "    <tr>\n",
       "      <th>3</th>\n",
       "      <td>0000000145BDB2FF000157971645E901</td>\n",
       "      <td>44</td>\n",
       "    </tr>\n",
       "    <tr>\n",
       "      <th>4</th>\n",
       "      <td>000000014602771F0000DB9359714C01</td>\n",
       "      <td>48</td>\n",
       "    </tr>\n",
       "  </tbody>\n",
       "</table>\n",
       "</div>"
      ],
      "text/plain": [
       "                                 id  age\n",
       "0  000000013CB5719C0000A2C90002C101   53\n",
       "1  00000001442BE24000001B7D00F50801   48\n",
       "2  00000001448580F800003F1B31FB0901   28\n",
       "3  0000000145BDB2FF000157971645E901   44\n",
       "4  000000014602771F0000DB9359714C01   48"
      ]
     },
     "execution_count": 12,
     "metadata": {},
     "output_type": "execute_result"
    }
   ],
   "source": [
    "age_profile_train = pandas.read_csv(data_folder + 'age_profile_train', sep = '\\t', header = None)\n",
    "age_profile_train.columns = ['id', 'age']\n",
    "age_profile_train.head()"
   ]
  },
  {
   "cell_type": "markdown",
   "metadata": {},
   "source": [
    "Построим словарь id -> age"
   ]
  },
  {
   "cell_type": "code",
   "execution_count": 13,
   "metadata": {
    "collapsed": false
   },
   "outputs": [
    {
     "data": {
      "text/plain": [
       "[('00000BBC56F4CFF0A671AB95000CCD01', 47),\n",
       " ('0600856656CF174400006DD155395601', 31),\n",
       " ('0000004656F090D174F93BBC56688C01', 27),\n",
       " ('00000046568FD4107BCF57773C5E7F01', 31),\n",
       " ('00000001494FA563241913C91D6FA201', 51)]"
      ]
     },
     "execution_count": 13,
     "metadata": {},
     "output_type": "execute_result"
    }
   ],
   "source": [
    "id_age_train = dict(age_profile_train.values)\n",
    "id_age_train.items()[:5]"
   ]
  },
  {
   "cell_type": "markdown",
   "metadata": {},
   "source": [
    "Загрузим title_unify_train (['id', 'title', 'count'])"
   ]
  },
  {
   "cell_type": "code",
   "execution_count": 17,
   "metadata": {
    "collapsed": false
   },
   "outputs": [
    {
     "data": {
      "text/html": [
       "<div>\n",
       "<table border=\"1\" class=\"dataframe\">\n",
       "  <thead>\n",
       "    <tr style=\"text-align: right;\">\n",
       "      <th></th>\n",
       "      <th>id</th>\n",
       "      <th>title</th>\n",
       "      <th>count</th>\n",
       "    </tr>\n",
       "  </thead>\n",
       "  <tbody>\n",
       "    <tr>\n",
       "      <th>0</th>\n",
       "      <td>000000014B6D41C13D777E8314725401</td>\n",
       "      <td>коляна лента прикол</td>\n",
       "      <td>1</td>\n",
       "    </tr>\n",
       "    <tr>\n",
       "      <th>1</th>\n",
       "      <td>0000000150707ACB8A82451C0307BC01</td>\n",
       "      <td>candi410 rambler ru входящая рамблер-почта</td>\n",
       "      <td>1</td>\n",
       "    </tr>\n",
       "    <tr>\n",
       "      <th>2</th>\n",
       "      <td>0000000150707ACB8A82451C0307BC01</td>\n",
       "      <td>cosmopolitan витамин волос для женщина журнал ...</td>\n",
       "      <td>1</td>\n",
       "    </tr>\n",
       "    <tr>\n",
       "      <th>3</th>\n",
       "      <td>0000000150707ACB8A82451C0307BC01</td>\n",
       "      <td>realbox бокс для интернет-магазин страница тов...</td>\n",
       "      <td>1</td>\n",
       "    </tr>\n",
       "    <tr>\n",
       "      <th>4</th>\n",
       "      <td>0000000150707ACB8A82451C0307BC01</td>\n",
       "      <td>realbox бокс для интернет-магазин товар экипир...</td>\n",
       "      <td>2</td>\n",
       "    </tr>\n",
       "  </tbody>\n",
       "</table>\n",
       "</div>"
      ],
      "text/plain": [
       "                                 id  \\\n",
       "0  000000014B6D41C13D777E8314725401   \n",
       "1  0000000150707ACB8A82451C0307BC01   \n",
       "2  0000000150707ACB8A82451C0307BC01   \n",
       "3  0000000150707ACB8A82451C0307BC01   \n",
       "4  0000000150707ACB8A82451C0307BC01   \n",
       "\n",
       "                                               title  count  \n",
       "0                                коляна лента прикол      1  \n",
       "1         candi410 rambler ru входящая рамблер-почта      1  \n",
       "2  cosmopolitan витамин волос для женщина журнал ...      1  \n",
       "3  realbox бокс для интернет-магазин страница тов...      1  \n",
       "4  realbox бокс для интернет-магазин товар экипир...      2  "
      ]
     },
     "execution_count": 17,
     "metadata": {},
     "output_type": "execute_result"
    }
   ],
   "source": [
    "title_unify_train = pandas.read_csv(data_folder + 'title_unify_train', sep = '\\t', header = None)\n",
    "title_unify_train.columns = ['id', 'title', 'count']\n",
    "title_unify_train.head()"
   ]
  },
  {
   "cell_type": "markdown",
   "metadata": {},
   "source": [
    "Загрузим title_unify_test (['id', 'title', 'count'])"
   ]
  },
  {
   "cell_type": "code",
   "execution_count": 20,
   "metadata": {
    "collapsed": false
   },
   "outputs": [
    {
     "data": {
      "text/html": [
       "<div>\n",
       "<table border=\"1\" class=\"dataframe\">\n",
       "  <thead>\n",
       "    <tr style=\"text-align: right;\">\n",
       "      <th></th>\n",
       "      <th>id</th>\n",
       "      <th>title</th>\n",
       "      <th>count</th>\n",
       "    </tr>\n",
       "  </thead>\n",
       "  <tbody>\n",
       "    <tr>\n",
       "      <th>0</th>\n",
       "      <td>0000000151790DCC1E8322AF0B6FA701</td>\n",
       "      <td>20-километровый амур китай мост недвижимость п...</td>\n",
       "      <td>2</td>\n",
       "    </tr>\n",
       "    <tr>\n",
       "      <th>1</th>\n",
       "      <td>0000000151790DCC1E8322AF0B6FA701</td>\n",
       "      <td>24-х 34-х до договор неделя новость предложить...</td>\n",
       "      <td>1</td>\n",
       "    </tr>\n",
       "    <tr>\n",
       "      <th>2</th>\n",
       "      <td>0000000151790DCC1E8322AF0B6FA701</td>\n",
       "      <td>3xl armour compress heatgear long size sleev s...</td>\n",
       "      <td>1</td>\n",
       "    </tr>\n",
       "    <tr>\n",
       "      <th>3</th>\n",
       "      <td>0000000151790DCC1E8322AF0B6FA701</td>\n",
       "      <td>4-е ca зачёт медальный место новость ои-2012 п...</td>\n",
       "      <td>1</td>\n",
       "    </tr>\n",
       "    <tr>\n",
       "      <th>4</th>\n",
       "      <td>0000000151790DCC1E8322AF0B6FA701</td>\n",
       "      <td>4-колёсный moi-bebik oregon oscar ru коляска к...</td>\n",
       "      <td>1</td>\n",
       "    </tr>\n",
       "  </tbody>\n",
       "</table>\n",
       "</div>"
      ],
      "text/plain": [
       "                                 id  \\\n",
       "0  0000000151790DCC1E8322AF0B6FA701   \n",
       "1  0000000151790DCC1E8322AF0B6FA701   \n",
       "2  0000000151790DCC1E8322AF0B6FA701   \n",
       "3  0000000151790DCC1E8322AF0B6FA701   \n",
       "4  0000000151790DCC1E8322AF0B6FA701   \n",
       "\n",
       "                                               title  count  \n",
       "0  20-километровый амур китай мост недвижимость п...      2  \n",
       "1  24-х 34-х до договор неделя новость предложить...      1  \n",
       "2  3xl armour compress heatgear long size sleev s...      1  \n",
       "3  4-е ca зачёт медальный место новость ои-2012 п...      1  \n",
       "4  4-колёсный moi-bebik oregon oscar ru коляска к...      1  "
      ]
     },
     "execution_count": 20,
     "metadata": {},
     "output_type": "execute_result"
    }
   ],
   "source": [
    "title_unify_test = pandas.read_csv(data_folder + 'title_unify_test', sep = '\\t', header = None)\n",
    "title_unify_test.columns = ['id', 'title', 'count']\n",
    "title_unify_test.head()"
   ]
  },
  {
   "cell_type": "markdown",
   "metadata": {},
   "source": [
    "Загрузим url_domain_test (['id', 'url', 'count'])"
   ]
  },
  {
   "cell_type": "code",
   "execution_count": 22,
   "metadata": {
    "collapsed": false
   },
   "outputs": [
    {
     "data": {
      "text/html": [
       "<div>\n",
       "<table border=\"1\" class=\"dataframe\">\n",
       "  <thead>\n",
       "    <tr style=\"text-align: right;\">\n",
       "      <th></th>\n",
       "      <th>id</th>\n",
       "      <th>url</th>\n",
       "      <th>count</th>\n",
       "    </tr>\n",
       "  </thead>\n",
       "  <tbody>\n",
       "    <tr>\n",
       "      <th>0</th>\n",
       "      <td>0000000151004FF4ADD746DA10685A01</td>\n",
       "      <td>afisha.ru</td>\n",
       "      <td>2</td>\n",
       "    </tr>\n",
       "    <tr>\n",
       "      <th>1</th>\n",
       "      <td>0000000151004FF4ADD746DA10685A01</td>\n",
       "      <td>aif.ru</td>\n",
       "      <td>1</td>\n",
       "    </tr>\n",
       "    <tr>\n",
       "      <th>2</th>\n",
       "      <td>0000000151004FF4ADD746DA10685A01</td>\n",
       "      <td>aimfar.solution.weborama.fr</td>\n",
       "      <td>1</td>\n",
       "    </tr>\n",
       "    <tr>\n",
       "      <th>3</th>\n",
       "      <td>0000000151004FF4ADD746DA10685A01</td>\n",
       "      <td>alkotest.ru</td>\n",
       "      <td>1</td>\n",
       "    </tr>\n",
       "    <tr>\n",
       "      <th>4</th>\n",
       "      <td>0000000151004FF4ADD746DA10685A01</td>\n",
       "      <td>aptekamos.ru</td>\n",
       "      <td>1</td>\n",
       "    </tr>\n",
       "  </tbody>\n",
       "</table>\n",
       "</div>"
      ],
      "text/plain": [
       "                                 id                          url  count\n",
       "0  0000000151004FF4ADD746DA10685A01                    afisha.ru      2\n",
       "1  0000000151004FF4ADD746DA10685A01                       aif.ru      1\n",
       "2  0000000151004FF4ADD746DA10685A01  aimfar.solution.weborama.fr      1\n",
       "3  0000000151004FF4ADD746DA10685A01                  alkotest.ru      1\n",
       "4  0000000151004FF4ADD746DA10685A01                 aptekamos.ru      1"
      ]
     },
     "execution_count": 22,
     "metadata": {},
     "output_type": "execute_result"
    }
   ],
   "source": [
    "url_domain_test = pandas.read_csv(data_folder + 'url_domain_test', sep = '\\t', header = None)\n",
    "url_domain_test.columns = ['id', 'url', 'count']\n",
    "url_domain_test.head()"
   ]
  },
  {
   "cell_type": "markdown",
   "metadata": {},
   "source": [
    "Загрузим url_domain_train(['id', 'url', 'count'])"
   ]
  },
  {
   "cell_type": "code",
   "execution_count": 24,
   "metadata": {
    "collapsed": false
   },
   "outputs": [
    {
     "data": {
      "text/html": [
       "<div>\n",
       "<table border=\"1\" class=\"dataframe\">\n",
       "  <thead>\n",
       "    <tr style=\"text-align: right;\">\n",
       "      <th></th>\n",
       "      <th>id</th>\n",
       "      <th>url</th>\n",
       "      <th>count</th>\n",
       "    </tr>\n",
       "  </thead>\n",
       "  <tbody>\n",
       "    <tr>\n",
       "      <th>0</th>\n",
       "      <td>000000014B60815F65B38258011B6C01</td>\n",
       "      <td>login.rutracker.org</td>\n",
       "      <td>1</td>\n",
       "    </tr>\n",
       "    <tr>\n",
       "      <th>1</th>\n",
       "      <td>000000014B60815F65B38258011B6C01</td>\n",
       "      <td>rutracker.org</td>\n",
       "      <td>4</td>\n",
       "    </tr>\n",
       "    <tr>\n",
       "      <th>2</th>\n",
       "      <td>000000014C03DA2A47AC433A0C755201</td>\n",
       "      <td>admin.tour-spb.net</td>\n",
       "      <td>1</td>\n",
       "    </tr>\n",
       "    <tr>\n",
       "      <th>3</th>\n",
       "      <td>000000014C03DA2A47AC433A0C755201</td>\n",
       "      <td>czinfo.ru</td>\n",
       "      <td>1</td>\n",
       "    </tr>\n",
       "    <tr>\n",
       "      <th>4</th>\n",
       "      <td>000000014C03DA2A47AC433A0C755201</td>\n",
       "      <td>forumsostav.ru</td>\n",
       "      <td>1</td>\n",
       "    </tr>\n",
       "  </tbody>\n",
       "</table>\n",
       "</div>"
      ],
      "text/plain": [
       "                                 id                  url  count\n",
       "0  000000014B60815F65B38258011B6C01  login.rutracker.org      1\n",
       "1  000000014B60815F65B38258011B6C01        rutracker.org      4\n",
       "2  000000014C03DA2A47AC433A0C755201   admin.tour-spb.net      1\n",
       "3  000000014C03DA2A47AC433A0C755201            czinfo.ru      1\n",
       "4  000000014C03DA2A47AC433A0C755201       forumsostav.ru      1"
      ]
     },
     "execution_count": 24,
     "metadata": {},
     "output_type": "execute_result"
    }
   ],
   "source": [
    "url_domain_train = pandas.read_csv(data_folder + 'url_domain_train', sep = '\\t', header = None)\n",
    "url_domain_train.columns = ['id', 'url', 'count']\n",
    "url_domain_train.head()"
   ]
  },
  {
   "cell_type": "markdown",
   "metadata": {},
   "source": [
    "Объединим train и test в один датафрейм"
   ]
  },
  {
   "cell_type": "code",
   "execution_count": 32,
   "metadata": {
    "collapsed": false
   },
   "outputs": [
    {
     "name": "stdout",
     "output_type": "stream",
     "text": [
      "(118679, 2)\n",
      "(5850389, 3)\n",
      "(2046869, 3)\n"
     ]
    }
   ],
   "source": [
    "print age_profile_train.shape\n",
    "print title_unify_train.shape\n",
    "print url_domain_train.shape"
   ]
  },
  {
   "cell_type": "code",
   "execution_count": 36,
   "metadata": {
    "collapsed": false
   },
   "outputs": [
    {
     "data": {
      "text/html": [
       "<div>\n",
       "<table border=\"1\" class=\"dataframe\">\n",
       "  <thead>\n",
       "    <tr style=\"text-align: right;\">\n",
       "      <th></th>\n",
       "      <th>id</th>\n",
       "      <th>title</th>\n",
       "      <th>count</th>\n",
       "    </tr>\n",
       "  </thead>\n",
       "  <tbody>\n",
       "    <tr>\n",
       "      <th>0</th>\n",
       "      <td>000000014B6D41C13D777E8314725401</td>\n",
       "      <td>коляна лента прикол</td>\n",
       "      <td>1</td>\n",
       "    </tr>\n",
       "    <tr>\n",
       "      <th>1</th>\n",
       "      <td>0000000150707ACB8A82451C0307BC01</td>\n",
       "      <td>candi410 rambler ru входящая рамблер-почта</td>\n",
       "      <td>1</td>\n",
       "    </tr>\n",
       "    <tr>\n",
       "      <th>2</th>\n",
       "      <td>0000000150707ACB8A82451C0307BC01</td>\n",
       "      <td>cosmopolitan витамин волос для женщина журнал ...</td>\n",
       "      <td>1</td>\n",
       "    </tr>\n",
       "    <tr>\n",
       "      <th>3</th>\n",
       "      <td>0000000150707ACB8A82451C0307BC01</td>\n",
       "      <td>realbox бокс для интернет-магазин страница тов...</td>\n",
       "      <td>1</td>\n",
       "    </tr>\n",
       "    <tr>\n",
       "      <th>4</th>\n",
       "      <td>0000000150707ACB8A82451C0307BC01</td>\n",
       "      <td>realbox бокс для интернет-магазин товар экипир...</td>\n",
       "      <td>2</td>\n",
       "    </tr>\n",
       "  </tbody>\n",
       "</table>\n",
       "</div>"
      ],
      "text/plain": [
       "                                 id  \\\n",
       "0  000000014B6D41C13D777E8314725401   \n",
       "1  0000000150707ACB8A82451C0307BC01   \n",
       "2  0000000150707ACB8A82451C0307BC01   \n",
       "3  0000000150707ACB8A82451C0307BC01   \n",
       "4  0000000150707ACB8A82451C0307BC01   \n",
       "\n",
       "                                               title count  \n",
       "0                                коляна лента прикол     1  \n",
       "1         candi410 rambler ru входящая рамблер-почта     1  \n",
       "2  cosmopolitan витамин волос для женщина журнал ...     1  \n",
       "3  realbox бокс для интернет-магазин страница тов...     1  \n",
       "4  realbox бокс для интернет-магазин товар экипир...     2  "
      ]
     },
     "execution_count": 36,
     "metadata": {},
     "output_type": "execute_result"
    }
   ],
   "source": [
    "train_and_test_title_unify = pandas.DataFrame(numpy.vstack([title_unify_train.values, title_unify_test.values]))\n",
    "train_and_test_title_unify.columns = ['id', 'title', 'count']\n",
    "train_and_test_title_unify.head()"
   ]
  },
  {
   "cell_type": "markdown",
   "metadata": {},
   "source": [
    "Построим по данному датафрейму sparse matrix по всем словам из title, используя TfidfVectorizer"
   ]
  },
  {
   "cell_type": "code",
   "execution_count": 37,
   "metadata": {
    "collapsed": false
   },
   "outputs": [],
   "source": [
    "from sklearn.feature_extraction.text import TfidfVectorizer\n",
    "vectorizer = TfidfVectorizer(max_features = 10000)"
   ]
  },
  {
   "cell_type": "code",
   "execution_count": 38,
   "metadata": {
    "collapsed": false
   },
   "outputs": [
    {
     "name": "stdout",
     "output_type": "stream",
     "text": [
      "<class 'pandas.core.series.Series'> (134116,)\n",
      "CPU times: user 16 s, sys: 580 ms, total: 16.6 s\n",
      "Wall time: 17 s\n"
     ]
    }
   ],
   "source": [
    "%%time\n",
    "group_by_id = train_and_test_title_unify.groupby('id')['title'].apply(lambda x: x.tolist())\n",
    "print type(group_by_id), group_by_id.shape"
   ]
  },
  {
   "cell_type": "code",
   "execution_count": 39,
   "metadata": {
    "collapsed": false,
    "scrolled": true
   },
   "outputs": [
    {
     "name": "stdout",
     "output_type": "stream",
     "text": [
      "134116 2\n"
     ]
    }
   ],
   "source": [
    "group_by_id1 = zip(group_by_id.keys(), group_by_id.values)\n",
    "print len(group_by_id1), len(group_by_id1[0])"
   ]
  },
  {
   "cell_type": "code",
   "execution_count": 43,
   "metadata": {
    "collapsed": false
   },
   "outputs": [
    {
     "name": "stdout",
     "output_type": "stream",
     "text": [
      "114156\n"
     ]
    }
   ],
   "source": [
    "group_by_id1.sort(key = lambda x: x[0] in id_age_train, reverse = True)\n",
    "for i in range(len(group_by_id1)):\n",
    "    if group_by_id1[i][0] not in id_age_train:\n",
    "        print i\n",
    "        real_train_size = i\n",
    "        break"
   ]
  },
  {
   "cell_type": "code",
   "execution_count": 44,
   "metadata": {
    "collapsed": false
   },
   "outputs": [
    {
     "name": "stdout",
     "output_type": "stream",
     "text": [
      "(134116, 10000)\n",
      "CPU times: user 2min 2s, sys: 2.98 s, total: 2min 5s\n",
      "Wall time: 2min 50s\n"
     ]
    }
   ],
   "source": [
    "%%time\n",
    "vectorized_data = vectorizer.fit_transform([''.join(x[1]) for x in group_by_id1])\n",
    "print vectorized_data.shape\n",
    "features = vectorizer.vocabulary_"
   ]
  },
  {
   "cell_type": "markdown",
   "metadata": {},
   "source": [
    "### Обучение моделей"
   ]
  },
  {
   "cell_type": "markdown",
   "metadata": {},
   "source": [
    "Создадим массивы X_train и y_train"
   ]
  },
  {
   "cell_type": "code",
   "execution_count": 47,
   "metadata": {
    "collapsed": false
   },
   "outputs": [
    {
     "data": {
      "text/plain": [
       "[53, 48, 28, 44, 48]"
      ]
     },
     "execution_count": 47,
     "metadata": {},
     "output_type": "execute_result"
    }
   ],
   "source": [
    "y_train = [id_age_train[group_by_id1[i][0]] for i in range(real_train_size)]\n",
    "y_train[:5]"
   ]
  },
  {
   "cell_type": "code",
   "execution_count": 49,
   "metadata": {
    "collapsed": false
   },
   "outputs": [
    {
     "name": "stdout",
     "output_type": "stream",
     "text": [
      "114156 114156\n"
     ]
    }
   ],
   "source": [
    "X_train = vectorized_data[:real_train_size]\n",
    "print X_train.shape[0], len(y_train)"
   ]
  },
  {
   "cell_type": "markdown",
   "metadata": {},
   "source": [
    "### Xgboost"
   ]
  },
  {
   "cell_type": "code",
   "execution_count": 50,
   "metadata": {
    "collapsed": false
   },
   "outputs": [
    {
     "name": "stderr",
     "output_type": "stream",
     "text": [
      "/usr/local/lib/python2.7/dist-packages/sklearn/cross_validation.py:44: DeprecationWarning: This module was deprecated in version 0.18 in favor of the model_selection module into which all the refactored classes and functions are moved. Also note that the interface of the new CV iterators are different from that of this module. This module will be removed in 0.20.\n",
      "  \"This module will be removed in 0.20.\", DeprecationWarning)\n"
     ]
    }
   ],
   "source": [
    "import xgboost"
   ]
  },
  {
   "cell_type": "code",
   "execution_count": 53,
   "metadata": {
    "collapsed": true
   },
   "outputs": [],
   "source": [
    "params = {'max_depth':3, 'booster':'gbtree', 'eval_metric':'rmse', 'eta':0.1}\n",
    "rounds_count = 300"
   ]
  },
  {
   "cell_type": "code",
   "execution_count": 55,
   "metadata": {
    "collapsed": false
   },
   "outputs": [
    {
     "name": "stdout",
     "output_type": "stream",
     "text": [
      "[0]\ttrain-rmse:34.4588\teval-rmse:34.4588\n",
      "[5]\ttrain-rmse:22.6094\teval-rmse:22.6094\n",
      "[10]\ttrain-rmse:16.5608\teval-rmse:16.5608\n",
      "[15]\ttrain-rmse:13.8185\teval-rmse:13.8185\n",
      "[20]\ttrain-rmse:12.7006\teval-rmse:12.7006\n",
      "[25]\ttrain-rmse:12.2662\teval-rmse:12.2662\n",
      "[30]\ttrain-rmse:12.0928\teval-rmse:12.0928\n",
      "[35]\ttrain-rmse:12.0151\teval-rmse:12.0151\n",
      "[40]\ttrain-rmse:11.9757\teval-rmse:11.9757\n",
      "[45]\ttrain-rmse:11.9482\teval-rmse:11.9482\n",
      "[50]\ttrain-rmse:11.9274\teval-rmse:11.9274\n",
      "[55]\ttrain-rmse:11.909\teval-rmse:11.909\n",
      "[60]\ttrain-rmse:11.8913\teval-rmse:11.8913\n",
      "[65]\ttrain-rmse:11.8765\teval-rmse:11.8765\n",
      "[70]\ttrain-rmse:11.8627\teval-rmse:11.8627\n",
      "[75]\ttrain-rmse:11.8493\teval-rmse:11.8493\n",
      "[80]\ttrain-rmse:11.8355\teval-rmse:11.8355\n",
      "[85]\ttrain-rmse:11.8225\teval-rmse:11.8225\n",
      "[90]\ttrain-rmse:11.8112\teval-rmse:11.8112\n",
      "[95]\ttrain-rmse:11.8002\teval-rmse:11.8002\n",
      "[100]\ttrain-rmse:11.7897\teval-rmse:11.7897\n",
      "[105]\ttrain-rmse:11.7784\teval-rmse:11.7784\n",
      "[110]\ttrain-rmse:11.7686\teval-rmse:11.7686\n",
      "[115]\ttrain-rmse:11.7578\teval-rmse:11.7578\n",
      "[120]\ttrain-rmse:11.7477\teval-rmse:11.7477\n",
      "[125]\ttrain-rmse:11.7387\teval-rmse:11.7387\n",
      "[130]\ttrain-rmse:11.7299\teval-rmse:11.7299\n",
      "[135]\ttrain-rmse:11.7212\teval-rmse:11.7212\n",
      "[140]\ttrain-rmse:11.7131\teval-rmse:11.7131\n",
      "[145]\ttrain-rmse:11.7048\teval-rmse:11.7048\n",
      "[150]\ttrain-rmse:11.6966\teval-rmse:11.6966\n",
      "[155]\ttrain-rmse:11.6894\teval-rmse:11.6894\n",
      "[160]\ttrain-rmse:11.6814\teval-rmse:11.6814\n",
      "[165]\ttrain-rmse:11.6738\teval-rmse:11.6738\n",
      "[170]\ttrain-rmse:11.6666\teval-rmse:11.6666\n",
      "[175]\ttrain-rmse:11.658\teval-rmse:11.658\n",
      "[180]\ttrain-rmse:11.6511\teval-rmse:11.6511\n",
      "[185]\ttrain-rmse:11.6441\teval-rmse:11.6441\n",
      "[190]\ttrain-rmse:11.6373\teval-rmse:11.6373\n",
      "[195]\ttrain-rmse:11.6304\teval-rmse:11.6304\n",
      "[200]\ttrain-rmse:11.6241\teval-rmse:11.6241\n",
      "[205]\ttrain-rmse:11.6176\teval-rmse:11.6176\n",
      "[210]\ttrain-rmse:11.6106\teval-rmse:11.6106\n",
      "[215]\ttrain-rmse:11.6045\teval-rmse:11.6045\n",
      "[220]\ttrain-rmse:11.597\teval-rmse:11.597\n",
      "[225]\ttrain-rmse:11.5907\teval-rmse:11.5907\n",
      "[230]\ttrain-rmse:11.5849\teval-rmse:11.5849\n",
      "[235]\ttrain-rmse:11.5787\teval-rmse:11.5787\n",
      "[240]\ttrain-rmse:11.5733\teval-rmse:11.5733\n",
      "[245]\ttrain-rmse:11.5667\teval-rmse:11.5667\n",
      "[250]\ttrain-rmse:11.5609\teval-rmse:11.5609\n",
      "[255]\ttrain-rmse:11.5556\teval-rmse:11.5556\n",
      "[260]\ttrain-rmse:11.5495\teval-rmse:11.5495\n",
      "[265]\ttrain-rmse:11.5435\teval-rmse:11.5435\n",
      "[270]\ttrain-rmse:11.5385\teval-rmse:11.5385\n",
      "[275]\ttrain-rmse:11.5332\teval-rmse:11.5332\n",
      "[280]\ttrain-rmse:11.5282\teval-rmse:11.5282\n",
      "[285]\ttrain-rmse:11.5229\teval-rmse:11.5229\n",
      "[290]\ttrain-rmse:11.5174\teval-rmse:11.5174\n",
      "[295]\ttrain-rmse:11.5121\teval-rmse:11.5121\n",
      "CPU times: user 27min 18s, sys: 4.15 s, total: 27min 22s\n",
      "Wall time: 7min 42s\n"
     ]
    }
   ],
   "source": [
    "%%time\n",
    "X_data_train = xgboost.DMatrix(data = X_train, label = y_train)\n",
    "X_data_test = xgboost.DMatrix(data = X_train, label = y_train)\n",
    "\n",
    "params_list = list(params.items())\n",
    "watch_list = [(X_data_train, 'train'), (X_data_test, 'eval')]            \n",
    "\n",
    "bst = xgboost.train(params_list, X_data_train, rounds_count, evals = watch_list, verbose_eval = 5)"
   ]
  },
  {
   "cell_type": "markdown",
   "metadata": {},
   "source": [
    "### Отправка решения"
   ]
  },
  {
   "cell_type": "code",
   "execution_count": 56,
   "metadata": {
    "collapsed": false
   },
   "outputs": [],
   "source": [
    "answer_ages = bst.predict(xgboost.DMatrix(vectorized_data[real_train_size:]))"
   ]
  },
  {
   "cell_type": "code",
   "execution_count": 57,
   "metadata": {
    "collapsed": false,
    "scrolled": true
   },
   "outputs": [
    {
     "name": "stdout",
     "output_type": "stream",
     "text": [
      "['000000013CB5719C0000A2C90002C101', '00000001442BE24000001B7D00F50801', '00000001448580F800003F1B31FB0901', '0000000145BDB2FF000157971645E901', '000000014602771F0000DB9359714C01', '0000000147B2D6F311DB5C4201B7FB01', '0000000147C68954150168D701A8B801', '0000000147EB76D738CD80750C879701', '00000001482AAFB69FA5228008AC2A01', '0000000148390BB56A6B22BB178D3901']\n"
     ]
    }
   ],
   "source": [
    "Ids = [x[0] for x in group_by_id1]\n",
    "print Ids[:10]"
   ]
  },
  {
   "cell_type": "code",
   "execution_count": 58,
   "metadata": {
    "collapsed": true
   },
   "outputs": [],
   "source": [
    "test_urls = pandas.read_csv(data_folder + 'url_domain_test', sep = '\\t', header = None)\n",
    "test_urls.columns = ['id', 'url', 'count']"
   ]
  },
  {
   "cell_type": "code",
   "execution_count": 59,
   "metadata": {
    "collapsed": false
   },
   "outputs": [
    {
     "data": {
      "text/html": [
       "<div>\n",
       "<table border=\"1\" class=\"dataframe\">\n",
       "  <thead>\n",
       "    <tr style=\"text-align: right;\">\n",
       "      <th></th>\n",
       "      <th>id</th>\n",
       "      <th>url</th>\n",
       "      <th>count</th>\n",
       "    </tr>\n",
       "  </thead>\n",
       "  <tbody>\n",
       "    <tr>\n",
       "      <th>0</th>\n",
       "      <td>0000000151004FF4ADD746DA10685A01</td>\n",
       "      <td>afisha.ru</td>\n",
       "      <td>2</td>\n",
       "    </tr>\n",
       "    <tr>\n",
       "      <th>1</th>\n",
       "      <td>0000000151004FF4ADD746DA10685A01</td>\n",
       "      <td>aif.ru</td>\n",
       "      <td>1</td>\n",
       "    </tr>\n",
       "    <tr>\n",
       "      <th>2</th>\n",
       "      <td>0000000151004FF4ADD746DA10685A01</td>\n",
       "      <td>aimfar.solution.weborama.fr</td>\n",
       "      <td>1</td>\n",
       "    </tr>\n",
       "    <tr>\n",
       "      <th>3</th>\n",
       "      <td>0000000151004FF4ADD746DA10685A01</td>\n",
       "      <td>alkotest.ru</td>\n",
       "      <td>1</td>\n",
       "    </tr>\n",
       "    <tr>\n",
       "      <th>4</th>\n",
       "      <td>0000000151004FF4ADD746DA10685A01</td>\n",
       "      <td>aptekamos.ru</td>\n",
       "      <td>1</td>\n",
       "    </tr>\n",
       "  </tbody>\n",
       "</table>\n",
       "</div>"
      ],
      "text/plain": [
       "                                 id                          url  count\n",
       "0  0000000151004FF4ADD746DA10685A01                    afisha.ru      2\n",
       "1  0000000151004FF4ADD746DA10685A01                       aif.ru      1\n",
       "2  0000000151004FF4ADD746DA10685A01  aimfar.solution.weborama.fr      1\n",
       "3  0000000151004FF4ADD746DA10685A01                  alkotest.ru      1\n",
       "4  0000000151004FF4ADD746DA10685A01                 aptekamos.ru      1"
      ]
     },
     "execution_count": 59,
     "metadata": {},
     "output_type": "execute_result"
    }
   ],
   "source": [
    "test_urls.head()"
   ]
  },
  {
   "cell_type": "code",
   "execution_count": 64,
   "metadata": {
    "collapsed": false
   },
   "outputs": [
    {
     "name": "stdout",
     "output_type": "stream",
     "text": [
      "set(['060458FC4F26763C00000F979D2A7E01', '060E6C2B503325370000837052DE5001', '0000004654A10B824C165A466C168201', '05F9DAFE4E0C341900008CF2B767AF01', '000000465705245378FF65D832218001', '06134823531743F900004AC41E17E101', '0000004656F1981B1AA7519B68928301', '05F9DAFE4D3838F50000024A4318F701', '000000465704F25A438B05242F511001', '05F9DAFE4E09AA770000DDF2A270B501', '000000465684B22F9C5E2F5092605901', '0000042E5705589889C7137F36D41301', '00000046546F3F721C92663B86D4EE01', '000000465705212A890F65E12F997E01', '00000046569323B3B9B443367DC16401', '0000004656C8659C34EC56F3481DC101', '0000004657049E1AA4A453852830FA01', '05F9DAFE4E254F2B0000DDF205C6D101', '0000004654B561B02F4A0174E0EC2001'])\n"
     ]
    }
   ],
   "source": [
    "missed_ids = set(list(test_urls['id'].values)) - set(list(group_by_id.keys()))\n",
    "print missed_ids"
   ]
  },
  {
   "cell_type": "code",
   "execution_count": 65,
   "metadata": {
    "collapsed": false,
    "scrolled": true
   },
   "outputs": [
    {
     "name": "stdout",
     "output_type": "stream",
     "text": [
      "(19, 2)\n"
     ]
    }
   ],
   "source": [
    "missed = numpy.array(zip(missed_ids, [0] * len(missed_ids)))\n",
    "print missed.shape"
   ]
  },
  {
   "cell_type": "code",
   "execution_count": 66,
   "metadata": {
    "collapsed": false,
    "scrolled": true
   },
   "outputs": [
    {
     "name": "stdout",
     "output_type": "stream",
     "text": [
      "(19960, 2)\n"
     ]
    },
    {
     "data": {
      "text/html": [
       "<div>\n",
       "<table border=\"1\" class=\"dataframe\">\n",
       "  <thead>\n",
       "    <tr style=\"text-align: right;\">\n",
       "      <th></th>\n",
       "      <th>id</th>\n",
       "      <th>age</th>\n",
       "    </tr>\n",
       "  </thead>\n",
       "  <tbody>\n",
       "    <tr>\n",
       "      <th>0</th>\n",
       "      <td>000000014A02348E701552980349FF01</td>\n",
       "      <td>43.1339</td>\n",
       "    </tr>\n",
       "    <tr>\n",
       "      <th>1</th>\n",
       "      <td>000000014A10EA183BF8594A0B2AB201</td>\n",
       "      <td>40.1764</td>\n",
       "    </tr>\n",
       "    <tr>\n",
       "      <th>2</th>\n",
       "      <td>000000014A4FE5C33A929D4C26943601</td>\n",
       "      <td>34.0603</td>\n",
       "    </tr>\n",
       "    <tr>\n",
       "      <th>3</th>\n",
       "      <td>000000014B7BB9957784A9BC0AC9F401</td>\n",
       "      <td>32.0664</td>\n",
       "    </tr>\n",
       "    <tr>\n",
       "      <th>4</th>\n",
       "      <td>000000014C7749F896D82C2B01E8B801</td>\n",
       "      <td>35.2443</td>\n",
       "    </tr>\n",
       "  </tbody>\n",
       "</table>\n",
       "</div>"
      ],
      "text/plain": [
       "                                 id      age\n",
       "0  000000014A02348E701552980349FF01  43.1339\n",
       "1  000000014A10EA183BF8594A0B2AB201  40.1764\n",
       "2  000000014A4FE5C33A929D4C26943601  34.0603\n",
       "3  000000014B7BB9957784A9BC0AC9F401  32.0664\n",
       "4  000000014C7749F896D82C2B01E8B801  35.2443"
      ]
     },
     "execution_count": 66,
     "metadata": {},
     "output_type": "execute_result"
    }
   ],
   "source": [
    "answer_df = pandas.DataFrame(columns = ['id', 'age'])\n",
    "answer_df['id'] = Ids[real_train_size:]\n",
    "answer_df['age'] = answer_ages\n",
    "print answer_df.shape\n",
    "answer_df = pandas.DataFrame(numpy.vstack((answer_df.values, missed)))\n",
    "answer_df.columns = ['id', 'age']\n",
    "answer_df.head()"
   ]
  },
  {
   "cell_type": "code",
   "execution_count": 67,
   "metadata": {
    "collapsed": false
   },
   "outputs": [
    {
     "name": "stdout",
     "output_type": "stream",
     "text": [
      "(19979, 2)\n"
     ]
    }
   ],
   "source": [
    "print answer_df.shape"
   ]
  },
  {
   "cell_type": "code",
   "execution_count": 68,
   "metadata": {
    "collapsed": false
   },
   "outputs": [],
   "source": [
    "answer_df.to_csv(data_folder + 'xgboost_solution.csv', index = False)"
   ]
  },
  {
   "cell_type": "code",
   "execution_count": null,
   "metadata": {
    "collapsed": true
   },
   "outputs": [],
   "source": []
  },
  {
   "cell_type": "code",
   "execution_count": null,
   "metadata": {
    "collapsed": true
   },
   "outputs": [],
   "source": []
  },
  {
   "cell_type": "code",
   "execution_count": null,
   "metadata": {
    "collapsed": true
   },
   "outputs": [],
   "source": []
  },
  {
   "cell_type": "code",
   "execution_count": null,
   "metadata": {
    "collapsed": true
   },
   "outputs": [],
   "source": []
  },
  {
   "cell_type": "code",
   "execution_count": null,
   "metadata": {
    "collapsed": true
   },
   "outputs": [],
   "source": []
  }
 ],
 "metadata": {
  "anaconda-cloud": {},
  "kernelspec": {
   "display_name": "Python 2",
   "language": "python",
   "name": "python2"
  },
  "language_info": {
   "codemirror_mode": {
    "name": "ipython",
    "version": 2
   },
   "file_extension": ".py",
   "mimetype": "text/x-python",
   "name": "python",
   "nbconvert_exporter": "python",
   "pygments_lexer": "ipython2",
   "version": "2.7.12"
  }
 },
 "nbformat": 4,
 "nbformat_minor": 1
}
